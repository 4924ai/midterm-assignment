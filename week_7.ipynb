{
  "nbformat": 4,
  "nbformat_minor": 0,
  "metadata": {
    "colab": {
      "provenance": []
    },
    "kernelspec": {
      "name": "python3",
      "display_name": "Python 3"
    },
    "language_info": {
      "name": "python"
    },
    "accelerator": "GPU",
    "widgets": {
      "application/vnd.jupyter.widget-state+json": {
        "3fed8bdc888748b1a1af01f6fa371ff6": {
          "model_module": "@jupyter-widgets/controls",
          "model_name": "HBoxModel",
          "model_module_version": "1.5.0",
          "state": {
            "_dom_classes": [],
            "_model_module": "@jupyter-widgets/controls",
            "_model_module_version": "1.5.0",
            "_model_name": "HBoxModel",
            "_view_count": null,
            "_view_module": "@jupyter-widgets/controls",
            "_view_module_version": "1.5.0",
            "_view_name": "HBoxView",
            "box_style": "",
            "children": [
              "IPY_MODEL_68f9e6ddac3443a9bdce4f5d6af8fa93",
              "IPY_MODEL_48f1406fa3f74c93996ded40520bef6b",
              "IPY_MODEL_004830cedade4e28b8fd0d048df298f6"
            ],
            "layout": "IPY_MODEL_e4f4d7cafb1d491f8f2af5521e6c530e"
          }
        },
        "68f9e6ddac3443a9bdce4f5d6af8fa93": {
          "model_module": "@jupyter-widgets/controls",
          "model_name": "HTMLModel",
          "model_module_version": "1.5.0",
          "state": {
            "_dom_classes": [],
            "_model_module": "@jupyter-widgets/controls",
            "_model_module_version": "1.5.0",
            "_model_name": "HTMLModel",
            "_view_count": null,
            "_view_module": "@jupyter-widgets/controls",
            "_view_module_version": "1.5.0",
            "_view_name": "HTMLView",
            "description": "",
            "description_tooltip": null,
            "layout": "IPY_MODEL_f9b3488766af4bb3aee0f1e6eebb63a9",
            "placeholder": "​",
            "style": "IPY_MODEL_2b883152d2204ad58dae03e5eae108c1",
            "value": "100%"
          }
        },
        "48f1406fa3f74c93996ded40520bef6b": {
          "model_module": "@jupyter-widgets/controls",
          "model_name": "FloatProgressModel",
          "model_module_version": "1.5.0",
          "state": {
            "_dom_classes": [],
            "_model_module": "@jupyter-widgets/controls",
            "_model_module_version": "1.5.0",
            "_model_name": "FloatProgressModel",
            "_view_count": null,
            "_view_module": "@jupyter-widgets/controls",
            "_view_module_version": "1.5.0",
            "_view_name": "ProgressView",
            "bar_style": "success",
            "description": "",
            "description_tooltip": null,
            "layout": "IPY_MODEL_86aef28a45c84a0d88f4aa7666774e65",
            "max": 170498071,
            "min": 0,
            "orientation": "horizontal",
            "style": "IPY_MODEL_5b0ad7e6b1d4432094d8ea2fc68556c4",
            "value": 170498071
          }
        },
        "004830cedade4e28b8fd0d048df298f6": {
          "model_module": "@jupyter-widgets/controls",
          "model_name": "HTMLModel",
          "model_module_version": "1.5.0",
          "state": {
            "_dom_classes": [],
            "_model_module": "@jupyter-widgets/controls",
            "_model_module_version": "1.5.0",
            "_model_name": "HTMLModel",
            "_view_count": null,
            "_view_module": "@jupyter-widgets/controls",
            "_view_module_version": "1.5.0",
            "_view_name": "HTMLView",
            "description": "",
            "description_tooltip": null,
            "layout": "IPY_MODEL_72e293aff743464f98fafdaf945dc55a",
            "placeholder": "​",
            "style": "IPY_MODEL_6c1aea685a424764812e073a8c84b169",
            "value": " 170498071/170498071 [00:01&lt;00:00, 100160119.00it/s]"
          }
        },
        "e4f4d7cafb1d491f8f2af5521e6c530e": {
          "model_module": "@jupyter-widgets/base",
          "model_name": "LayoutModel",
          "model_module_version": "1.2.0",
          "state": {
            "_model_module": "@jupyter-widgets/base",
            "_model_module_version": "1.2.0",
            "_model_name": "LayoutModel",
            "_view_count": null,
            "_view_module": "@jupyter-widgets/base",
            "_view_module_version": "1.2.0",
            "_view_name": "LayoutView",
            "align_content": null,
            "align_items": null,
            "align_self": null,
            "border": null,
            "bottom": null,
            "display": null,
            "flex": null,
            "flex_flow": null,
            "grid_area": null,
            "grid_auto_columns": null,
            "grid_auto_flow": null,
            "grid_auto_rows": null,
            "grid_column": null,
            "grid_gap": null,
            "grid_row": null,
            "grid_template_areas": null,
            "grid_template_columns": null,
            "grid_template_rows": null,
            "height": null,
            "justify_content": null,
            "justify_items": null,
            "left": null,
            "margin": null,
            "max_height": null,
            "max_width": null,
            "min_height": null,
            "min_width": null,
            "object_fit": null,
            "object_position": null,
            "order": null,
            "overflow": null,
            "overflow_x": null,
            "overflow_y": null,
            "padding": null,
            "right": null,
            "top": null,
            "visibility": null,
            "width": null
          }
        },
        "f9b3488766af4bb3aee0f1e6eebb63a9": {
          "model_module": "@jupyter-widgets/base",
          "model_name": "LayoutModel",
          "model_module_version": "1.2.0",
          "state": {
            "_model_module": "@jupyter-widgets/base",
            "_model_module_version": "1.2.0",
            "_model_name": "LayoutModel",
            "_view_count": null,
            "_view_module": "@jupyter-widgets/base",
            "_view_module_version": "1.2.0",
            "_view_name": "LayoutView",
            "align_content": null,
            "align_items": null,
            "align_self": null,
            "border": null,
            "bottom": null,
            "display": null,
            "flex": null,
            "flex_flow": null,
            "grid_area": null,
            "grid_auto_columns": null,
            "grid_auto_flow": null,
            "grid_auto_rows": null,
            "grid_column": null,
            "grid_gap": null,
            "grid_row": null,
            "grid_template_areas": null,
            "grid_template_columns": null,
            "grid_template_rows": null,
            "height": null,
            "justify_content": null,
            "justify_items": null,
            "left": null,
            "margin": null,
            "max_height": null,
            "max_width": null,
            "min_height": null,
            "min_width": null,
            "object_fit": null,
            "object_position": null,
            "order": null,
            "overflow": null,
            "overflow_x": null,
            "overflow_y": null,
            "padding": null,
            "right": null,
            "top": null,
            "visibility": null,
            "width": null
          }
        },
        "2b883152d2204ad58dae03e5eae108c1": {
          "model_module": "@jupyter-widgets/controls",
          "model_name": "DescriptionStyleModel",
          "model_module_version": "1.5.0",
          "state": {
            "_model_module": "@jupyter-widgets/controls",
            "_model_module_version": "1.5.0",
            "_model_name": "DescriptionStyleModel",
            "_view_count": null,
            "_view_module": "@jupyter-widgets/base",
            "_view_module_version": "1.2.0",
            "_view_name": "StyleView",
            "description_width": ""
          }
        },
        "86aef28a45c84a0d88f4aa7666774e65": {
          "model_module": "@jupyter-widgets/base",
          "model_name": "LayoutModel",
          "model_module_version": "1.2.0",
          "state": {
            "_model_module": "@jupyter-widgets/base",
            "_model_module_version": "1.2.0",
            "_model_name": "LayoutModel",
            "_view_count": null,
            "_view_module": "@jupyter-widgets/base",
            "_view_module_version": "1.2.0",
            "_view_name": "LayoutView",
            "align_content": null,
            "align_items": null,
            "align_self": null,
            "border": null,
            "bottom": null,
            "display": null,
            "flex": null,
            "flex_flow": null,
            "grid_area": null,
            "grid_auto_columns": null,
            "grid_auto_flow": null,
            "grid_auto_rows": null,
            "grid_column": null,
            "grid_gap": null,
            "grid_row": null,
            "grid_template_areas": null,
            "grid_template_columns": null,
            "grid_template_rows": null,
            "height": null,
            "justify_content": null,
            "justify_items": null,
            "left": null,
            "margin": null,
            "max_height": null,
            "max_width": null,
            "min_height": null,
            "min_width": null,
            "object_fit": null,
            "object_position": null,
            "order": null,
            "overflow": null,
            "overflow_x": null,
            "overflow_y": null,
            "padding": null,
            "right": null,
            "top": null,
            "visibility": null,
            "width": null
          }
        },
        "5b0ad7e6b1d4432094d8ea2fc68556c4": {
          "model_module": "@jupyter-widgets/controls",
          "model_name": "ProgressStyleModel",
          "model_module_version": "1.5.0",
          "state": {
            "_model_module": "@jupyter-widgets/controls",
            "_model_module_version": "1.5.0",
            "_model_name": "ProgressStyleModel",
            "_view_count": null,
            "_view_module": "@jupyter-widgets/base",
            "_view_module_version": "1.2.0",
            "_view_name": "StyleView",
            "bar_color": null,
            "description_width": ""
          }
        },
        "72e293aff743464f98fafdaf945dc55a": {
          "model_module": "@jupyter-widgets/base",
          "model_name": "LayoutModel",
          "model_module_version": "1.2.0",
          "state": {
            "_model_module": "@jupyter-widgets/base",
            "_model_module_version": "1.2.0",
            "_model_name": "LayoutModel",
            "_view_count": null,
            "_view_module": "@jupyter-widgets/base",
            "_view_module_version": "1.2.0",
            "_view_name": "LayoutView",
            "align_content": null,
            "align_items": null,
            "align_self": null,
            "border": null,
            "bottom": null,
            "display": null,
            "flex": null,
            "flex_flow": null,
            "grid_area": null,
            "grid_auto_columns": null,
            "grid_auto_flow": null,
            "grid_auto_rows": null,
            "grid_column": null,
            "grid_gap": null,
            "grid_row": null,
            "grid_template_areas": null,
            "grid_template_columns": null,
            "grid_template_rows": null,
            "height": null,
            "justify_content": null,
            "justify_items": null,
            "left": null,
            "margin": null,
            "max_height": null,
            "max_width": null,
            "min_height": null,
            "min_width": null,
            "object_fit": null,
            "object_position": null,
            "order": null,
            "overflow": null,
            "overflow_x": null,
            "overflow_y": null,
            "padding": null,
            "right": null,
            "top": null,
            "visibility": null,
            "width": null
          }
        },
        "6c1aea685a424764812e073a8c84b169": {
          "model_module": "@jupyter-widgets/controls",
          "model_name": "DescriptionStyleModel",
          "model_module_version": "1.5.0",
          "state": {
            "_model_module": "@jupyter-widgets/controls",
            "_model_module_version": "1.5.0",
            "_model_name": "DescriptionStyleModel",
            "_view_count": null,
            "_view_module": "@jupyter-widgets/base",
            "_view_module_version": "1.2.0",
            "_view_name": "StyleView",
            "description_width": ""
          }
        }
      }
    }
  },
  "cells": [
    {
      "cell_type": "code",
      "execution_count": 1,
      "metadata": {
        "colab": {
          "base_uri": "https://localhost:8080/",
          "height": 189,
          "referenced_widgets": [
            "3fed8bdc888748b1a1af01f6fa371ff6",
            "68f9e6ddac3443a9bdce4f5d6af8fa93",
            "48f1406fa3f74c93996ded40520bef6b",
            "004830cedade4e28b8fd0d048df298f6",
            "e4f4d7cafb1d491f8f2af5521e6c530e",
            "f9b3488766af4bb3aee0f1e6eebb63a9",
            "2b883152d2204ad58dae03e5eae108c1",
            "86aef28a45c84a0d88f4aa7666774e65",
            "5b0ad7e6b1d4432094d8ea2fc68556c4",
            "72e293aff743464f98fafdaf945dc55a",
            "6c1aea685a424764812e073a8c84b169"
          ]
        },
        "id": "D1PdmO9WabS5",
        "outputId": "4ab3c740-cb6c-475d-a114-273e1f75f9ae"
      },
      "outputs": [
        {
          "output_type": "stream",
          "name": "stdout",
          "text": [
            "Downloading https://www.cs.toronto.edu/~kriz/cifar-10-python.tar.gz to ./pt_data/cifar-10-python.tar.gz\n"
          ]
        },
        {
          "output_type": "display_data",
          "data": {
            "text/plain": [
              "  0%|          | 0/170498071 [00:00<?, ?it/s]"
            ],
            "application/vnd.jupyter.widget-view+json": {
              "version_major": 2,
              "version_minor": 0,
              "model_id": "3fed8bdc888748b1a1af01f6fa371ff6"
            }
          },
          "metadata": {}
        },
        {
          "output_type": "stream",
          "name": "stdout",
          "text": [
            "Extracting ./pt_data/cifar-10-python.tar.gz to ./pt_data\n",
            "Category:  8\n"
          ]
        },
        {
          "output_type": "display_data",
          "data": {
            "text/plain": [
              "<Figure size 72x72 with 1 Axes>"
            ],
            "image/png": "[encoded data removed]"
          },
          "metadata": {
            "needs_background": "light"
          }
        }
      ],
      "source": [
        "import torchvision\n",
        "import torchvision.transforms as transforms\n",
        "from torchvision.datasets import CIFAR10\n",
        "from torch.utils.data import DataLoader\n",
        "import numpy as np\n",
        "import matplotlib.pyplot as plt\n",
        "\n",
        "# Load training dataset into a single batch.\n",
        "transform = transforms.Compose([transforms.ToTensor()])\n",
        "trainset = CIFAR10(root='./pt_data', train=True, download=True, transform=transform)\n",
        "trainloader = DataLoader(trainset, batch_size=len(trainset), shuffle=False)\n",
        "data = next(iter(trainloader))\n",
        "\n",
        "# Convert to numpy arrays of correct shape for plotting.\n",
        "train_images = data[0].numpy()\n",
        "train_images = np.moveaxis(train_images, 1, 3)\n",
        "train_labels = data[1].numpy()\n",
        "\n",
        "print('Category: ', train_labels[100])\n",
        "plt.figure(figsize=(1, 1))\n",
        "plt.imshow(train_images[100])\n",
        "plt.show()"
      ]
    },
    {
      "cell_type": "markdown",
      "source": [
        "# 새 섹션"
      ],
      "metadata": {
        "id": "HWsoDOHFcxIt"
      }
    },
    {
      "cell_type": "code",
      "source": [
        "!pip install requests"
      ],
      "metadata": {
        "colab": {
          "base_uri": "https://localhost:8080/"
        },
        "id": "YC9KO61pcmvI",
        "outputId": "1fe21637-4846-4bf2-da09-840c5ed93138"
      },
      "execution_count": 4,
      "outputs": [
        {
          "output_type": "stream",
          "name": "stdout",
          "text": [
            "Looking in indexes: https://pypi.org/simple, https://us-python.pkg.dev/colab-wheels/public/simple/\n",
            "Requirement already satisfied: requests in /usr/local/lib/python3.7/dist-packages (2.23.0)\n",
            "Requirement already satisfied: urllib3!=1.25.0,!=1.25.1,<1.26,>=1.21.1 in /usr/local/lib/python3.7/dist-packages (from requests) (1.24.3)\n",
            "Requirement already satisfied: certifi>=2017.4.17 in /usr/local/lib/python3.7/dist-packages (from requests) (2022.9.24)\n",
            "Requirement already satisfied: idna<3,>=2.5 in /usr/local/lib/python3.7/dist-packages (from requests) (2.10)\n",
            "Requirement already satisfied: chardet<4,>=3.0.2 in /usr/local/lib/python3.7/dist-packages (from requests) (3.0.4)\n"
          ]
        }
      ]
    },
    {
      "cell_type": "code",
      "source": [
        "import requests\n",
        "url='https://raw.githubusercontent.com/NVDLI/LDL/main/pt_framework/utilities.py'\n",
        "r=requests.get(url)\n",
        "\n",
        "with open('utilities.py', 'w') as f:\n",
        "  f.write(r.text)"
      ],
      "metadata": {
        "id": "2uVU7ivDc1_9"
      },
      "execution_count": 5,
      "outputs": []
    },
    {
      "cell_type": "code",
      "source": [
        "import torch\n",
        "import torch.nn as nn\n",
        "import torchvision\n",
        "import torchvision.transforms as transforms\n",
        "from torchvision.datasets import CIFAR10\n",
        "from torch.utils.data import DataLoader\n",
        "import numpy as np\n",
        "from utilities import train_model\n",
        "\n",
        "device = torch.device(\"cuda:0\" if torch.cuda.is_available() else \"cpu\")\n",
        "EPOCHS = 128\n",
        "BATCH_SIZE=32\n",
        "\n",
        "transform=transforms.Compose([transforms.ToTensor()])\n",
        "trainset=CIFAR10(root='./pt_data', train=True, download=True, transform=transform)\n",
        "trainloader=DataLoader(trainset, batch_size=len(trainset), shuffle=False)\n",
        "data=next(iter(trainloader))\n",
        "mean=data[0].mean()\n",
        "stddev=data[0].std()"
      ],
      "metadata": {
        "colab": {
          "base_uri": "https://localhost:8080/"
        },
        "id": "Lv_OSBsUc-HV",
        "outputId": "6d8ef2c9-41f0-4689-b011-e906e99e8205"
      },
      "execution_count": 6,
      "outputs": [
        {
          "output_type": "stream",
          "name": "stdout",
          "text": [
            "Files already downloaded and verified\n"
          ]
        }
      ]
    },
    {
      "cell_type": "code",
      "source": [
        "transform=transforms.Compose(\n",
        "    [transforms.ToTensor(),\n",
        "     transforms.Normalize(mean, stddev)])\n",
        "\n",
        "trainset=CIFAR10(root='./pt_data', train=True, download=True, transform=transform)\n",
        "testset=CIFAR10(root='./pt_data', train=False, download=True, transform=transform)\n",
        "\n",
        "model=nn.Sequential(\n",
        "    nn.Conv2d(3, 64, 5, stride=2, padding=2),\n",
        "    nn.ReLU(),\n",
        "    nn.Conv2d(64, 64, 3, stride=2, padding=1),\n",
        "    nn.ReLU(),\n",
        "    nn.Flatten(),\n",
        "    nn.Linear(64*8*8, 10)\n",
        ")"
      ],
      "metadata": {
        "colab": {
          "base_uri": "https://localhost:8080/"
        },
        "id": "NRXHzwGLc_xt",
        "outputId": "901cfca7-97cd-4ccd-920f-077e8f0146da"
      },
      "execution_count": 7,
      "outputs": [
        {
          "output_type": "stream",
          "name": "stdout",
          "text": [
            "Files already downloaded and verified\n",
            "Files already downloaded and verified\n"
          ]
        }
      ]
    },
    {
      "cell_type": "code",
      "source": [
        "layers=next(model.modules())\n",
        "conv_layer0=layers[0]\n",
        "conv_layer1=layers[2]\n",
        "output_layer=layers[5]\n",
        "\n",
        "nn.init.kaiming_normal_(conv_layer0.weight)\n",
        "nn.init.constant_(conv_layer0.bias, 0.0)\n",
        "nn.init.kaiming_normal_(conv_layer1.weight)\n",
        "nn.init.constant_(conv_layer1.bias, 0.0)\n",
        "\n",
        "nn.init.xavier_uniform_(output_layer.weight)\n",
        "nn.init.constant_(output_layer.bias, 0.0)\n",
        "\n",
        "optimizer=torch.optim.Adam(model.parameters())\n",
        "loss_function=nn.CrossEntropyLoss()\n",
        "\n",
        "train_model(model, device, EPOCHS, BATCH_SIZE, trainset, testset, optimizer, loss_function, 'acc')"
      ],
      "metadata": {
        "colab": {
          "base_uri": "https://localhost:8080/"
        },
        "id": "e0f-4Z6MdD3O",
        "outputId": "665a1334-2871-4d96-b1e9-608ed62e20e4"
      },
      "execution_count": 8,
      "outputs": [
        {
          "output_type": "stream",
          "name": "stdout",
          "text": [
            "Epoch 1/128 loss: 1.3900 - acc: 0.5121 - val_loss: 1.1876 - val_acc: 0.5833\n",
            "Epoch 2/128 loss: 1.0566 - acc: 0.6329 - val_loss: 1.0782 - val_acc: 0.6262\n",
            "Epoch 3/128 loss: 0.9132 - acc: 0.6803 - val_loss: 1.0454 - val_acc: 0.6417\n",
            "Epoch 4/128 loss: 0.8176 - acc: 0.7161 - val_loss: 1.0441 - val_acc: 0.6479\n",
            "Epoch 5/128 loss: 0.7370 - acc: 0.7431 - val_loss: 1.0841 - val_acc: 0.6480\n",
            "Epoch 6/128 loss: 0.6747 - acc: 0.7653 - val_loss: 1.0854 - val_acc: 0.6440\n",
            "Epoch 7/128 loss: 0.6121 - acc: 0.7849 - val_loss: 1.1360 - val_acc: 0.6460\n",
            "Epoch 8/128 loss: 0.5595 - acc: 0.8022 - val_loss: 1.2068 - val_acc: 0.6408\n",
            "Epoch 9/128 loss: 0.5085 - acc: 0.8219 - val_loss: 1.2989 - val_acc: 0.6306\n",
            "Epoch 10/128 loss: 0.4709 - acc: 0.8329 - val_loss: 1.3312 - val_acc: 0.6370\n",
            "Epoch 11/128 loss: 0.4271 - acc: 0.8487 - val_loss: 1.4438 - val_acc: 0.6313\n",
            "Epoch 12/128 loss: 0.3944 - acc: 0.8608 - val_loss: 1.5676 - val_acc: 0.6403\n",
            "Epoch 13/128 loss: 0.3675 - acc: 0.8665 - val_loss: 1.5884 - val_acc: 0.6318\n",
            "Epoch 14/128 loss: 0.3355 - acc: 0.8807 - val_loss: 1.6858 - val_acc: 0.6220\n",
            "Epoch 15/128 loss: 0.3161 - acc: 0.8860 - val_loss: 1.7719 - val_acc: 0.6232\n",
            "Epoch 16/128 loss: 0.2874 - acc: 0.8967 - val_loss: 1.9408 - val_acc: 0.6258\n",
            "Epoch 17/128 loss: 0.2720 - acc: 0.9000 - val_loss: 1.9693 - val_acc: 0.6149\n",
            "Epoch 18/128 loss: 0.2564 - acc: 0.9082 - val_loss: 2.1119 - val_acc: 0.6210\n",
            "Epoch 19/128 loss: 0.2412 - acc: 0.9113 - val_loss: 2.2104 - val_acc: 0.6053\n",
            "Epoch 20/128 loss: 0.2322 - acc: 0.9154 - val_loss: 2.3495 - val_acc: 0.6083\n",
            "Epoch 21/128 loss: 0.2118 - acc: 0.9230 - val_loss: 2.4185 - val_acc: 0.6053\n",
            "Epoch 22/128 loss: 0.2050 - acc: 0.9243 - val_loss: 2.5646 - val_acc: 0.6091\n",
            "Epoch 23/128 loss: 0.1962 - acc: 0.9287 - val_loss: 2.6363 - val_acc: 0.6113\n",
            "Epoch 24/128 loss: 0.1951 - acc: 0.9303 - val_loss: 2.7949 - val_acc: 0.6104\n",
            "Epoch 25/128 loss: 0.1815 - acc: 0.9343 - val_loss: 2.8806 - val_acc: 0.6122\n",
            "Epoch 26/128 loss: 0.1826 - acc: 0.9348 - val_loss: 3.0266 - val_acc: 0.6062\n",
            "Epoch 27/128 loss: 0.1663 - acc: 0.9400 - val_loss: 3.1296 - val_acc: 0.6143\n",
            "Epoch 28/128 loss: 0.1742 - acc: 0.9391 - val_loss: 3.1940 - val_acc: 0.6097\n",
            "Epoch 29/128 loss: 0.1634 - acc: 0.9422 - val_loss: 3.2475 - val_acc: 0.6065\n",
            "Epoch 30/128 loss: 0.1637 - acc: 0.9424 - val_loss: 3.3566 - val_acc: 0.6087\n",
            "Epoch 31/128 loss: 0.1634 - acc: 0.9421 - val_loss: 3.4789 - val_acc: 0.6114\n",
            "Epoch 32/128 loss: 0.1566 - acc: 0.9447 - val_loss: 3.5312 - val_acc: 0.6041\n",
            "Epoch 33/128 loss: 0.1533 - acc: 0.9468 - val_loss: 3.6483 - val_acc: 0.6125\n",
            "Epoch 34/128 loss: 0.1511 - acc: 0.9477 - val_loss: 3.8123 - val_acc: 0.6044\n",
            "Epoch 35/128 loss: 0.1529 - acc: 0.9489 - val_loss: 3.8707 - val_acc: 0.6056\n",
            "Epoch 36/128 loss: 0.1492 - acc: 0.9489 - val_loss: 3.9612 - val_acc: 0.6111\n",
            "Epoch 37/128 loss: 0.1496 - acc: 0.9499 - val_loss: 3.9934 - val_acc: 0.6112\n",
            "Epoch 38/128 loss: 0.1511 - acc: 0.9503 - val_loss: 4.1549 - val_acc: 0.6118\n",
            "Epoch 39/128 loss: 0.1373 - acc: 0.9537 - val_loss: 4.2682 - val_acc: 0.6069\n",
            "Epoch 40/128 loss: 0.1451 - acc: 0.9531 - val_loss: 4.1540 - val_acc: 0.6062\n",
            "Epoch 41/128 loss: 0.1336 - acc: 0.9560 - val_loss: 4.4221 - val_acc: 0.6099\n",
            "Epoch 42/128 loss: 0.1514 - acc: 0.9518 - val_loss: 4.4781 - val_acc: 0.6138\n",
            "Epoch 43/128 loss: 0.1395 - acc: 0.9566 - val_loss: 4.7109 - val_acc: 0.6080\n",
            "Epoch 44/128 loss: 0.1468 - acc: 0.9525 - val_loss: 4.7344 - val_acc: 0.6098\n",
            "Epoch 45/128 loss: 0.1380 - acc: 0.9558 - val_loss: 4.8507 - val_acc: 0.6092\n",
            "Epoch 46/128 loss: 0.1375 - acc: 0.9571 - val_loss: 4.8639 - val_acc: 0.6038\n",
            "Epoch 47/128 loss: 0.1420 - acc: 0.9555 - val_loss: 5.0314 - val_acc: 0.6031\n",
            "Epoch 48/128 loss: 0.1372 - acc: 0.9576 - val_loss: 5.1512 - val_acc: 0.6122\n",
            "Epoch 49/128 loss: 0.1362 - acc: 0.9572 - val_loss: 5.1606 - val_acc: 0.6091\n",
            "Epoch 50/128 loss: 0.1353 - acc: 0.9585 - val_loss: 5.1851 - val_acc: 0.5985\n",
            "Epoch 51/128 loss: 0.1345 - acc: 0.9595 - val_loss: 5.3384 - val_acc: 0.6063\n",
            "Epoch 52/128 loss: 0.1342 - acc: 0.9594 - val_loss: 5.6048 - val_acc: 0.5989\n",
            "Epoch 53/128 loss: 0.1322 - acc: 0.9610 - val_loss: 5.6029 - val_acc: 0.6088\n",
            "Epoch 54/128 loss: 0.1411 - acc: 0.9593 - val_loss: 5.7714 - val_acc: 0.6098\n",
            "Epoch 55/128 loss: 0.1370 - acc: 0.9606 - val_loss: 5.8635 - val_acc: 0.6043\n",
            "Epoch 56/128 loss: 0.1377 - acc: 0.9606 - val_loss: 5.7950 - val_acc: 0.6137\n",
            "Epoch 57/128 loss: 0.1366 - acc: 0.9605 - val_loss: 6.0003 - val_acc: 0.6070\n",
            "Epoch 58/128 loss: 0.1304 - acc: 0.9631 - val_loss: 6.2735 - val_acc: 0.6161\n",
            "Epoch 59/128 loss: 0.1361 - acc: 0.9620 - val_loss: 6.0754 - val_acc: 0.6129\n",
            "Epoch 60/128 loss: 0.1323 - acc: 0.9637 - val_loss: 6.1342 - val_acc: 0.6102\n",
            "Epoch 61/128 loss: 0.1359 - acc: 0.9621 - val_loss: 6.2179 - val_acc: 0.6084\n",
            "Epoch 62/128 loss: 0.1318 - acc: 0.9635 - val_loss: 6.5306 - val_acc: 0.6057\n",
            "Epoch 63/128 loss: 0.1402 - acc: 0.9630 - val_loss: 6.5288 - val_acc: 0.6072\n",
            "Epoch 64/128 loss: 0.1356 - acc: 0.9623 - val_loss: 6.6124 - val_acc: 0.6109\n",
            "Epoch 65/128 loss: 0.1394 - acc: 0.9624 - val_loss: 6.8594 - val_acc: 0.6041\n",
            "Epoch 66/128 loss: 0.1383 - acc: 0.9639 - val_loss: 6.7415 - val_acc: 0.6057\n",
            "Epoch 67/128 loss: 0.1226 - acc: 0.9665 - val_loss: 6.7059 - val_acc: 0.6032\n",
            "Epoch 68/128 loss: 0.1344 - acc: 0.9644 - val_loss: 7.1369 - val_acc: 0.6035\n",
            "Epoch 69/128 loss: 0.1376 - acc: 0.9649 - val_loss: 7.1677 - val_acc: 0.6080\n",
            "Epoch 70/128 loss: 0.1330 - acc: 0.9650 - val_loss: 7.1437 - val_acc: 0.6084\n",
            "Epoch 71/128 loss: 0.1360 - acc: 0.9652 - val_loss: 7.3129 - val_acc: 0.6018\n",
            "Epoch 72/128 loss: 0.1239 - acc: 0.9679 - val_loss: 7.2724 - val_acc: 0.6121\n",
            "Epoch 73/128 loss: 0.1410 - acc: 0.9656 - val_loss: 7.3004 - val_acc: 0.6046\n",
            "Epoch 74/128 loss: 0.1386 - acc: 0.9647 - val_loss: 7.7175 - val_acc: 0.6047\n",
            "Epoch 75/128 loss: 0.1324 - acc: 0.9667 - val_loss: 7.7281 - val_acc: 0.5987\n",
            "Epoch 76/128 loss: 0.1352 - acc: 0.9664 - val_loss: 7.7857 - val_acc: 0.6079\n",
            "Epoch 77/128 loss: 0.1282 - acc: 0.9676 - val_loss: 7.9358 - val_acc: 0.6091\n",
            "Epoch 78/128 loss: 0.1317 - acc: 0.9681 - val_loss: 8.0570 - val_acc: 0.6082\n",
            "Epoch 79/128 loss: 0.1461 - acc: 0.9667 - val_loss: 8.0499 - val_acc: 0.6035\n",
            "Epoch 80/128 loss: 0.1350 - acc: 0.9679 - val_loss: 8.1581 - val_acc: 0.6034\n",
            "Epoch 81/128 loss: 0.1287 - acc: 0.9699 - val_loss: 8.0855 - val_acc: 0.6075\n",
            "Epoch 82/128 loss: 0.1375 - acc: 0.9676 - val_loss: 8.4263 - val_acc: 0.6133\n",
            "Epoch 83/128 loss: 0.1266 - acc: 0.9699 - val_loss: 8.5076 - val_acc: 0.6037\n",
            "Epoch 84/128 loss: 0.1327 - acc: 0.9687 - val_loss: 8.6816 - val_acc: 0.6068\n",
            "Epoch 85/128 loss: 0.1357 - acc: 0.9690 - val_loss: 8.6464 - val_acc: 0.6046\n",
            "Epoch 86/128 loss: 0.1287 - acc: 0.9705 - val_loss: 8.7604 - val_acc: 0.6095\n",
            "Epoch 87/128 loss: 0.1423 - acc: 0.9679 - val_loss: 8.8964 - val_acc: 0.6036\n",
            "Epoch 88/128 loss: 0.1393 - acc: 0.9691 - val_loss: 9.0584 - val_acc: 0.6110\n",
            "Epoch 89/128 loss: 0.1372 - acc: 0.9700 - val_loss: 9.1169 - val_acc: 0.6097\n",
            "Epoch 90/128 loss: 0.1371 - acc: 0.9691 - val_loss: 9.2823 - val_acc: 0.6076\n",
            "Epoch 91/128 loss: 0.1363 - acc: 0.9702 - val_loss: 9.3169 - val_acc: 0.6085\n",
            "Epoch 92/128 loss: 0.1251 - acc: 0.9725 - val_loss: 9.3319 - val_acc: 0.6116\n",
            "Epoch 93/128 loss: 0.1374 - acc: 0.9710 - val_loss: 9.6871 - val_acc: 0.6071\n",
            "Epoch 94/128 loss: 0.1470 - acc: 0.9680 - val_loss: 9.6076 - val_acc: 0.6071\n",
            "Epoch 95/128 loss: 0.1345 - acc: 0.9700 - val_loss: 9.8916 - val_acc: 0.6053\n",
            "Epoch 96/128 loss: 0.1422 - acc: 0.9709 - val_loss: 9.8201 - val_acc: 0.6004\n",
            "Epoch 97/128 loss: 0.1157 - acc: 0.9746 - val_loss: 10.0869 - val_acc: 0.6019\n",
            "Epoch 98/128 loss: 0.1490 - acc: 0.9694 - val_loss: 10.2847 - val_acc: 0.6039\n",
            "Epoch 99/128 loss: 0.1337 - acc: 0.9725 - val_loss: 10.3504 - val_acc: 0.6043\n",
            "Epoch 100/128 loss: 0.1343 - acc: 0.9713 - val_loss: 10.3329 - val_acc: 0.6049\n",
            "Epoch 101/128 loss: 0.1287 - acc: 0.9733 - val_loss: 10.2634 - val_acc: 0.6063\n",
            "Epoch 102/128 loss: 0.1363 - acc: 0.9716 - val_loss: 10.6628 - val_acc: 0.6063\n",
            "Epoch 103/128 loss: 0.1374 - acc: 0.9729 - val_loss: 10.4596 - val_acc: 0.6077\n",
            "Epoch 104/128 loss: 0.1368 - acc: 0.9728 - val_loss: 10.8657 - val_acc: 0.6066\n",
            "Epoch 105/128 loss: 0.1409 - acc: 0.9736 - val_loss: 10.7977 - val_acc: 0.6060\n",
            "Epoch 106/128 loss: 0.1540 - acc: 0.9706 - val_loss: 10.7947 - val_acc: 0.6081\n",
            "Epoch 107/128 loss: 0.1309 - acc: 0.9739 - val_loss: 10.7303 - val_acc: 0.6044\n",
            "Epoch 108/128 loss: 0.1397 - acc: 0.9724 - val_loss: 11.3826 - val_acc: 0.6018\n",
            "Epoch 109/128 loss: 0.1398 - acc: 0.9739 - val_loss: 11.4478 - val_acc: 0.6018\n",
            "Epoch 110/128 loss: 0.1395 - acc: 0.9735 - val_loss: 11.3632 - val_acc: 0.6108\n",
            "Epoch 111/128 loss: 0.1423 - acc: 0.9725 - val_loss: 11.4064 - val_acc: 0.6103\n",
            "Epoch 112/128 loss: 0.1263 - acc: 0.9745 - val_loss: 11.2019 - val_acc: 0.6035\n",
            "Epoch 113/128 loss: 0.1341 - acc: 0.9754 - val_loss: 11.6867 - val_acc: 0.6083\n",
            "Epoch 114/128 loss: 0.1457 - acc: 0.9729 - val_loss: 11.9144 - val_acc: 0.6101\n",
            "Epoch 115/128 loss: 0.1346 - acc: 0.9743 - val_loss: 12.1847 - val_acc: 0.6081\n",
            "Epoch 116/128 loss: 0.1429 - acc: 0.9740 - val_loss: 12.4953 - val_acc: 0.6067\n",
            "Epoch 117/128 loss: 0.1336 - acc: 0.9754 - val_loss: 12.4457 - val_acc: 0.6065\n",
            "Epoch 118/128 loss: 0.1457 - acc: 0.9743 - val_loss: 12.2137 - val_acc: 0.6122\n",
            "Epoch 119/128 loss: 0.1454 - acc: 0.9748 - val_loss: 12.2867 - val_acc: 0.6116\n",
            "Epoch 120/128 loss: 0.1524 - acc: 0.9738 - val_loss: 12.7916 - val_acc: 0.6065\n",
            "Epoch 121/128 loss: 0.1369 - acc: 0.9760 - val_loss: 12.5503 - val_acc: 0.6054\n",
            "Epoch 122/128 loss: 0.1435 - acc: 0.9742 - val_loss: 13.1792 - val_acc: 0.6069\n",
            "Epoch 123/128 loss: 0.1372 - acc: 0.9757 - val_loss: 12.9534 - val_acc: 0.6053\n",
            "Epoch 124/128 loss: 0.1438 - acc: 0.9751 - val_loss: 12.9246 - val_acc: 0.6123\n",
            "Epoch 125/128 loss: 0.1369 - acc: 0.9765 - val_loss: 13.2230 - val_acc: 0.6167\n",
            "Epoch 126/128 loss: 0.1407 - acc: 0.9762 - val_loss: 13.4472 - val_acc: 0.6079\n",
            "Epoch 127/128 loss: 0.1523 - acc: 0.9753 - val_loss: 13.3736 - val_acc: 0.6046\n",
            "Epoch 128/128 loss: 0.1372 - acc: 0.9775 - val_loss: 13.7000 - val_acc: 0.6061\n"
          ]
        },
        {
          "output_type": "execute_result",
          "data": {
            "text/plain": [
              "[0.9774672104926424, 0.6061301916932907]"
            ]
          },
          "metadata": {},
          "execution_count": 8
        }
      ]
    }
  ]
}