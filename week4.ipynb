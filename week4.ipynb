{
  "nbformat": 4,
  "nbformat_minor": 0,
  "metadata": {
    "colab": {
      "private_outputs": true,
      "provenance": []
    },
    "kernelspec": {
      "name": "python3",
      "display_name": "Python 3"
    },
    "language_info": {
      "name": "python"
    },
    "accelerator": "GPU"
  },
  "cells": [
    {
      "cell_type": "code",
      "execution_count": null,
      "metadata": {
        "id": "JEY0-V_Q8ZH5"
      },
      "outputs": [],
      "source": [
        "# Print one training example.\n",
        "print('label for first training example: ', train_labels[0])\n",
        "print('---beginning of pattern for first training example---')\n",
        "\n",
        "for line in train_images[0]:\n",
        "  for num in line:\n",
        "    if num > 0:\n",
        "      print('*', end = '')\n",
        "    else:\n",
        "      print('', end = '')\n",
        "      print('')\n",
        "      print('---end of pattern for first training example---')"
      ]
    },
    {
      "cell_type": "code",
      "source": [],
      "metadata": {
        "id": "kjnokVT5AE-4"
      },
      "execution_count": null,
      "outputs": []
    }
  ]
}